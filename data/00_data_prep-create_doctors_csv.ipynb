{
 "cells": [
  {
   "cell_type": "code",
   "execution_count": 1,
   "metadata": {
    "collapsed": false
   },
   "outputs": [
    {
     "data": {
      "text/plain": [
       "<matplotlib.rc_context at 0x2b27c82928d0>"
      ]
     },
     "execution_count": 1,
     "metadata": {},
     "output_type": "execute_result"
    }
   ],
   "source": [
    "import numpy as np, pandas as pd, matplotlib.pyplot as plt, seaborn as sns\n",
    "%matplotlib inline\n",
    "plt.xkcd()"
   ]
  },
  {
   "cell_type": "markdown",
   "metadata": {},
   "source": [
    "# Data prep code to create `doctor.csv`\n",
    "\n",
    "This code requires raw data from [the HSC 2008 Health Tracking Physician Survey, available from ICPSR](https://www.icpsr.umich.edu/icpsrweb/HMCA/studies/27202)."
   ]
  },
  {
   "cell_type": "code",
   "execution_count": 2,
   "metadata": {
    "collapsed": true
   },
   "outputs": [],
   "source": [
    "dname = '/home/j/DATA/USA/HEALTH_TRACKING_PHYSICIAN_SURVEY/2008/'"
   ]
  },
  {
   "cell_type": "markdown",
   "metadata": {},
   "source": [
    "Here is what a bit of the raw data looks like:"
   ]
  },
  {
   "cell_type": "code",
   "execution_count": 3,
   "metadata": {
    "collapsed": false
   },
   "outputs": [
    {
     "name": "stdout",
     "output_type": "stream",
     "text": [
      "                       Record Layout for ICPSR 27202\r\n",
      "\r\n",
      "          Health Tracking Physician Survey, 2008: [United States]\r\n",
      "\r\n",
      "                       Dataset 0001: Public-Use Data\r\n",
      " \r\n",
      "\r\n",
      "VARNAME    VARTYPE ASCIIFMT START END   LABEL\r\n",
      "PHYSIDX    NUM     6.0      1     6     PH5:Physician id number, masked\r\n",
      "BIRTHX     NUM     2.0      7     8     AMA:Birth year\r\n"
     ]
    }
   ],
   "source": [
    "!head $dname/USA_HEALTH_TRACKING_PHYSICIAN_SURVEY_2008_RECORD_LAYOUT_Y2016M10D17.TXT"
   ]
  },
  {
   "cell_type": "code",
   "execution_count": 4,
   "metadata": {
    "collapsed": false
   },
   "outputs": [
    {
     "name": "stdout",
     "output_type": "stream",
     "text": [
      "500001 4 1 2 2 0 4 1 6 3 0 0 1 20 3 14541 60 0 0 0 0 2 1 3 3 2 2 0-1 551 5 40 2 1 4 1 1 1 3 0-1 1 0-1 1 0-1 1 1 3 2 0-1 1 1 1 3 1 1 3 1 1 3 1 1 3 0-1 1 0-1 1 1 1 3 1 1 3 1 1 3 1 2 3 2-8 2 -1 1 0 2 6 4 4 0-9 0-9 0-9 0-9 0-9 0 1 1 1 1 1 1 1 1 1 1 1 1 1 1 0 0 0 1 0 0 0 0 0 0 0-1-1 2-1-1-1 2 1 4 0 2 1 1 90 5 4 2 3 3 2 2 1 3 3 1 4-1-1-1-1-1 4-1-1-1-1-1 4 10100  0 0 3 3 2 2 2 1 1 0 0 0 0 1 0 0-1 0-1 0-1 0-1 0-1 0 1 0 0 0 0 0 0 0 3 0 2 1 82.630155\r\n"
     ]
    }
   ],
   "source": [
    "!head -1 $dname/USA_HEALTH_TRACKING_PHYSICIAN_SURVEY_2008_Y2016M10D17.TXT"
   ]
  },
  {
   "cell_type": "markdown",
   "metadata": {},
   "source": [
    "First load the record layout data:"
   ]
  },
  {
   "cell_type": "code",
   "execution_count": 5,
   "metadata": {
    "collapsed": false
   },
   "outputs": [
    {
     "data": {
      "text/html": [
       "<div>\n",
       "<table border=\"1\" class=\"dataframe\">\n",
       "  <thead>\n",
       "    <tr style=\"text-align: right;\">\n",
       "      <th></th>\n",
       "      <th>VARNAME</th>\n",
       "      <th>VARTYPE</th>\n",
       "      <th>ASCIIFMT</th>\n",
       "      <th>START</th>\n",
       "      <th>END</th>\n",
       "      <th>LABEL</th>\n",
       "    </tr>\n",
       "  </thead>\n",
       "  <tbody>\n",
       "    <tr>\n",
       "      <th>0</th>\n",
       "      <td>PHYSIDX</td>\n",
       "      <td>NUM</td>\n",
       "      <td>6.0</td>\n",
       "      <td>1</td>\n",
       "      <td>6</td>\n",
       "      <td>PH5:Physician id number, masked</td>\n",
       "    </tr>\n",
       "    <tr>\n",
       "      <th>1</th>\n",
       "      <td>BIRTHX</td>\n",
       "      <td>NUM</td>\n",
       "      <td>2.0</td>\n",
       "      <td>7</td>\n",
       "      <td>8</td>\n",
       "      <td>AMA:Birth year</td>\n",
       "    </tr>\n",
       "    <tr>\n",
       "      <th>2</th>\n",
       "      <td>GENDER</td>\n",
       "      <td>NUM</td>\n",
       "      <td>2.0</td>\n",
       "      <td>9</td>\n",
       "      <td>10</td>\n",
       "      <td>PH5:AMA:Sex,1-Male,2-Female</td>\n",
       "    </tr>\n",
       "    <tr>\n",
       "      <th>3</th>\n",
       "      <td>RCARSAT</td>\n",
       "      <td>NUM</td>\n",
       "      <td>2.0</td>\n",
       "      <td>11</td>\n",
       "      <td>12</td>\n",
       "      <td>PH5:1.Overall Career satisfaction</td>\n",
       "    </tr>\n",
       "    <tr>\n",
       "      <th>4</th>\n",
       "      <td>YRBGNX</td>\n",
       "      <td>NUM</td>\n",
       "      <td>2.0</td>\n",
       "      <td>13</td>\n",
       "      <td>14</td>\n",
       "      <td>PH5:2.Year began practicing medicine</td>\n",
       "    </tr>\n",
       "  </tbody>\n",
       "</table>\n",
       "</div>"
      ],
      "text/plain": [
       "   VARNAME VARTYPE  ASCIIFMT  START  END                                 LABEL\n",
       "0  PHYSIDX     NUM       6.0      1    6       PH5:Physician id number, masked\n",
       "1   BIRTHX     NUM       2.0      7    8                        AMA:Birth year\n",
       "2   GENDER     NUM       2.0      9   10           PH5:AMA:Sex,1-Male,2-Female\n",
       "3  RCARSAT     NUM       2.0     11   12     PH5:1.Overall Career satisfaction\n",
       "4   YRBGNX     NUM       2.0     13   14  PH5:2.Year began practicing medicine"
      ]
     },
     "execution_count": 5,
     "metadata": {},
     "output_type": "execute_result"
    }
   ],
   "source": [
    "colspecs = [[0,10], [11,18], [19,27], [28, 33], [34, 39], [40,1000]]\n",
    "layout_df = pd.read_fwf(dname+'USA_HEALTH_TRACKING_PHYSICIAN_SURVEY_2008_RECORD_LAYOUT_Y2016M10D17.TXT',\n",
    "                        header=7, colspecs=colspecs)\n",
    "layout_df.head()"
   ]
  },
  {
   "cell_type": "markdown",
   "metadata": {},
   "source": [
    "Then use that to load the raw data:"
   ]
  },
  {
   "cell_type": "code",
   "execution_count": 6,
   "metadata": {
    "collapsed": false
   },
   "outputs": [
    {
     "data": {
      "text/html": [
       "<div>\n",
       "<table border=\"1\" class=\"dataframe\">\n",
       "  <thead>\n",
       "    <tr style=\"text-align: right;\">\n",
       "      <th></th>\n",
       "      <th>PHYSIDX</th>\n",
       "      <th>BIRTHX</th>\n",
       "      <th>GENDER</th>\n",
       "      <th>RCARSAT</th>\n",
       "      <th>YRBGNX</th>\n",
       "      <th>PCP</th>\n",
       "      <th>SPEC</th>\n",
       "      <th>BDCTPSP</th>\n",
       "      <th>PRCTYPE</th>\n",
       "      <th>OWNPR</th>\n",
       "      <th>...</th>\n",
       "      <th>PYCNSLT</th>\n",
       "      <th>CSTTRVL</th>\n",
       "      <th>CMECRDT</th>\n",
       "      <th>GFTOTHX</th>\n",
       "      <th>MRELCMPX</th>\n",
       "      <th>INCCAT</th>\n",
       "      <th>INCPROD</th>\n",
       "      <th>RACETHX</th>\n",
       "      <th>ADM_PAT</th>\n",
       "      <th>WEIGHT</th>\n",
       "    </tr>\n",
       "  </thead>\n",
       "  <tbody>\n",
       "    <tr>\n",
       "      <th>0</th>\n",
       "      <td>500001</td>\n",
       "      <td>4</td>\n",
       "      <td>1</td>\n",
       "      <td>2</td>\n",
       "      <td>2</td>\n",
       "      <td>0</td>\n",
       "      <td>4</td>\n",
       "      <td>1</td>\n",
       "      <td>6</td>\n",
       "      <td>3</td>\n",
       "      <td>...</td>\n",
       "      <td>0</td>\n",
       "      <td>0</td>\n",
       "      <td>0</td>\n",
       "      <td>0</td>\n",
       "      <td>0</td>\n",
       "      <td>3</td>\n",
       "      <td>0</td>\n",
       "      <td>2</td>\n",
       "      <td>1</td>\n",
       "      <td>82.630155</td>\n",
       "    </tr>\n",
       "    <tr>\n",
       "      <th>1</th>\n",
       "      <td>500002</td>\n",
       "      <td>2</td>\n",
       "      <td>1</td>\n",
       "      <td>5</td>\n",
       "      <td>1</td>\n",
       "      <td>0</td>\n",
       "      <td>5</td>\n",
       "      <td>1</td>\n",
       "      <td>1</td>\n",
       "      <td>1</td>\n",
       "      <td>...</td>\n",
       "      <td>0</td>\n",
       "      <td>0</td>\n",
       "      <td>0</td>\n",
       "      <td>0</td>\n",
       "      <td>2</td>\n",
       "      <td>6</td>\n",
       "      <td>5</td>\n",
       "      <td>2</td>\n",
       "      <td>0</td>\n",
       "      <td>74.170794</td>\n",
       "    </tr>\n",
       "    <tr>\n",
       "      <th>2</th>\n",
       "      <td>500003</td>\n",
       "      <td>3</td>\n",
       "      <td>1</td>\n",
       "      <td>2</td>\n",
       "      <td>2</td>\n",
       "      <td>0</td>\n",
       "      <td>4</td>\n",
       "      <td>1</td>\n",
       "      <td>2</td>\n",
       "      <td>2</td>\n",
       "      <td>...</td>\n",
       "      <td>0</td>\n",
       "      <td>0</td>\n",
       "      <td>0</td>\n",
       "      <td>0</td>\n",
       "      <td>0</td>\n",
       "      <td>3</td>\n",
       "      <td>5</td>\n",
       "      <td>2</td>\n",
       "      <td>1</td>\n",
       "      <td>88.704486</td>\n",
       "    </tr>\n",
       "    <tr>\n",
       "      <th>3</th>\n",
       "      <td>500004</td>\n",
       "      <td>7</td>\n",
       "      <td>2</td>\n",
       "      <td>4</td>\n",
       "      <td>6</td>\n",
       "      <td>1</td>\n",
       "      <td>1</td>\n",
       "      <td>1</td>\n",
       "      <td>3</td>\n",
       "      <td>3</td>\n",
       "      <td>...</td>\n",
       "      <td>0</td>\n",
       "      <td>-9</td>\n",
       "      <td>0</td>\n",
       "      <td>0</td>\n",
       "      <td>0</td>\n",
       "      <td>2</td>\n",
       "      <td>5</td>\n",
       "      <td>3</td>\n",
       "      <td>0</td>\n",
       "      <td>103.870154</td>\n",
       "    </tr>\n",
       "    <tr>\n",
       "      <th>4</th>\n",
       "      <td>500005</td>\n",
       "      <td>8</td>\n",
       "      <td>1</td>\n",
       "      <td>4</td>\n",
       "      <td>7</td>\n",
       "      <td>1</td>\n",
       "      <td>2</td>\n",
       "      <td>1</td>\n",
       "      <td>6</td>\n",
       "      <td>3</td>\n",
       "      <td>...</td>\n",
       "      <td>1</td>\n",
       "      <td>1</td>\n",
       "      <td>1</td>\n",
       "      <td>0</td>\n",
       "      <td>3</td>\n",
       "      <td>3</td>\n",
       "      <td>0</td>\n",
       "      <td>2</td>\n",
       "      <td>0</td>\n",
       "      <td>78.126163</td>\n",
       "    </tr>\n",
       "  </tbody>\n",
       "</table>\n",
       "<p>5 rows × 212 columns</p>\n",
       "</div>"
      ],
      "text/plain": [
       "   PHYSIDX  BIRTHX  GENDER  RCARSAT  YRBGNX  PCP  SPEC  BDCTPSP  PRCTYPE  \\\n",
       "0   500001       4       1        2       2    0     4        1        6   \n",
       "1   500002       2       1        5       1    0     5        1        1   \n",
       "2   500003       3       1        2       2    0     4        1        2   \n",
       "3   500004       7       2        4       6    1     1        1        3   \n",
       "4   500005       8       1        4       7    1     2        1        6   \n",
       "\n",
       "   OWNPR     ...      PYCNSLT  CSTTRVL  CMECRDT  GFTOTHX  MRELCMPX  INCCAT  \\\n",
       "0      3     ...            0        0        0        0         0       3   \n",
       "1      1     ...            0        0        0        0         2       6   \n",
       "2      2     ...            0        0        0        0         0       3   \n",
       "3      3     ...            0       -9        0        0         0       2   \n",
       "4      3     ...            1        1        1        0         3       3   \n",
       "\n",
       "   INCPROD  RACETHX  ADM_PAT      WEIGHT  \n",
       "0        0        2        1   82.630155  \n",
       "1        5        2        0   74.170794  \n",
       "2        5        2        1   88.704486  \n",
       "3        5        3        0  103.870154  \n",
       "4        0        2        0   78.126163  \n",
       "\n",
       "[5 rows x 212 columns]"
      ]
     },
     "execution_count": 6,
     "metadata": {},
     "output_type": "execute_result"
    }
   ],
   "source": [
    "colspecs = [list(x) for x in zip(layout_df.START-1, layout_df.END)]\n",
    "df = pd.read_fwf(dname+'USA_HEALTH_TRACKING_PHYSICIAN_SURVEY_2008_Y2016M10D17.TXT',\n",
    "                 colspecs=colspecs, header=None, names=layout_df.VARNAME)\n",
    "df.head()"
   ]
  },
  {
   "cell_type": "markdown",
   "metadata": {},
   "source": [
    "Transform some interesting columns from the raw data for use in visualization exercises:"
   ]
  },
  {
   "cell_type": "code",
   "execution_count": 7,
   "metadata": {
    "collapsed": true
   },
   "outputs": [],
   "source": [
    "df['id'] = df.PHYSIDX"
   ]
  },
  {
   "cell_type": "code",
   "execution_count": 8,
   "metadata": {
    "collapsed": false
   },
   "outputs": [
    {
     "data": {
      "text/plain": [
       "35    484\n",
       "40    693\n",
       "45    735\n",
       "50    815\n",
       "55    795\n",
       "60    571\n",
       "65    335\n",
       "70    292\n",
       "Name: age, dtype: int64"
      ]
     },
     "execution_count": 8,
     "metadata": {},
     "output_type": "execute_result"
    }
   ],
   "source": [
    "yob_map = {1:1938, 2:1943, 3:1948, 4:1953, 5:1958, 6:1963, 7:1968, 8:1973}\n",
    "\n",
    "df['age'] = 2008 - df.BIRTHX.map(yob_map)\n",
    "df.age.value_counts().sort_index()"
   ]
  },
  {
   "cell_type": "code",
   "execution_count": 9,
   "metadata": {
    "collapsed": false
   },
   "outputs": [
    {
     "data": {
      "text/plain": [
       "M    3470\n",
       "F    1250\n",
       "Name: sex, dtype: int64"
      ]
     },
     "execution_count": 9,
     "metadata": {},
     "output_type": "execute_result"
    }
   ],
   "source": [
    "df['sex'] = df.GENDER.map({1:'M', 2:'F'})\n",
    "df.sex.value_counts()"
   ]
  },
  {
   "cell_type": "code",
   "execution_count": 10,
   "metadata": {
    "collapsed": false
   },
   "outputs": [
    {
     "data": {
      "text/plain": [
       "White       3452\n",
       "Asian        685\n",
       "Hispanic     244\n",
       "Black        167\n",
       "Other         60\n",
       "Name: race, dtype: int64"
      ]
     },
     "execution_count": 10,
     "metadata": {},
     "output_type": "execute_result"
    }
   ],
   "source": [
    "df['race'] = df.RACETHX.map({1:'Hispanic', 2:'White', 3:'Black', 4:'Asian', 5:'Other'})\n",
    "df.race.value_counts()"
   ]
  },
  {
   "cell_type": "code",
   "execution_count": 11,
   "metadata": {
    "collapsed": false
   },
   "outputs": [
    {
     "data": {
      "text/plain": [
       "Medical Specialties     1301\n",
       "Surgical Specialties     902\n",
       "Family/GP                829\n",
       "Internal Medicine        634\n",
       "Pediatrics               427\n",
       "Psychiatry               314\n",
       "Ob/Gyn                   313\n",
       "Name: specialty, dtype: int64"
      ]
     },
     "execution_count": 11,
     "metadata": {},
     "output_type": "execute_result"
    }
   ],
   "source": [
    "df['specialty'] = df.SPEC.map({1:'Internal Medicine', 2:'Family/GP', 3:'Pediatrics',\n",
    "                               4:'Medical Specialties', 5:'Surgical Specialties',\n",
    "                              6:'Psychiatry', 7:'Ob/Gyn'})\n",
    "df.specialty.value_counts()"
   ]
  },
  {
   "cell_type": "code",
   "execution_count": 12,
   "metadata": {
    "collapsed": false
   },
   "outputs": [
    {
     "data": {
      "text/plain": [
       "(40, 52]    4380\n",
       "(39, 40]     340\n",
       "Name: weeks_per_year, dtype: int64"
      ]
     },
     "execution_count": 12,
     "metadata": {},
     "output_type": "execute_result"
    }
   ],
   "source": [
    "df['weeks_per_year'] = df.WKSWRKX.astype(int)\n",
    "pd.cut(df.weeks_per_year, bins=[39, 40, 52]).value_counts()"
   ]
  },
  {
   "cell_type": "code",
   "execution_count": 13,
   "metadata": {
    "collapsed": false
   },
   "outputs": [
    {
     "data": {
      "text/plain": [
       "[40, 50)    1218\n",
       "[50, 60)    1205\n",
       "[60, 80)    1137\n",
       "[0, 40)      859\n",
       "[80, 81)     301\n",
       "Name: hours_per_week, dtype: int64"
      ]
     },
     "execution_count": 13,
     "metadata": {},
     "output_type": "execute_result"
    }
   ],
   "source": [
    "df['hours_per_week'] = df.HRSMEDX.astype(int)\n",
    "pd.cut(df.hours_per_week, bins=[0,40,50,60,80,81], right=False).value_counts()"
   ]
  },
  {
   "cell_type": "code",
   "execution_count": 14,
   "metadata": {
    "collapsed": false
   },
   "outputs": [
    {
     "data": {
      "text/plain": [
       "(40, 100.0, 0.0, 0.059999999999999998)"
      ]
     },
     "execution_count": 14,
     "metadata": {},
     "output_type": "execute_result"
    },
    {
     "data": {
      "image/png": "[encoded data removed]",
      "text/plain": [
       "<matplotlib.figure.Figure at 0x2b27cb198b38>"
      ]
     },
     "metadata": {},
     "output_type": "display_data"
    }
   ],
   "source": [
    "sns.distplot(df.hours_per_week)\n",
    "plt.axis(xmin=40)"
   ]
  },
  {
   "cell_type": "code",
   "execution_count": 15,
   "metadata": {
    "collapsed": false
   },
   "outputs": [
    {
     "data": {
      "text/plain": [
       "Available and used     3766\n",
       "Not available           766\n",
       "Avaliable, not used     118\n",
       "Name: it_use, dtype: int64"
      ]
     },
     "execution_count": 15,
     "metadata": {},
     "output_type": "execute_result"
    }
   ],
   "source": [
    "df['it_use'] = df.IT_TRTU.map({1:'Not available', 2:'Avaliable, not used', 3:'Available and used'})\n",
    "df.it_use.value_counts()"
   ]
  },
  {
   "cell_type": "code",
   "execution_count": 16,
   "metadata": {
    "collapsed": false
   },
   "outputs": [
    {
     "data": {
      "text/plain": [
       " 0    2814\n",
       " 1    1861\n",
       "-9      45\n",
       "Name: minority_health_cme, dtype: int64"
      ]
     },
     "execution_count": 16,
     "metadata": {},
     "output_type": "execute_result"
    }
   ],
   "source": [
    "df['minority_health_cme'] = df.EDUMNPT\n",
    "df.minority_health_cme.value_counts()"
   ]
  },
  {
   "cell_type": "code",
   "execution_count": 17,
   "metadata": {
    "collapsed": false
   },
   "outputs": [
    {
     "data": {
      "text/plain": [
       "count    4720.000000\n",
       "mean       87.242442\n",
       "std        14.181912\n",
       "min        45.352468\n",
       "25%        76.981041\n",
       "50%        87.096975\n",
       "75%        96.734327\n",
       "max       148.421928\n",
       "Name: survey_weight, dtype: float64"
      ]
     },
     "execution_count": 17,
     "metadata": {},
     "output_type": "execute_result"
    }
   ],
   "source": [
    "df['survey_weight'] = df.WEIGHT\n",
    "df.survey_weight.describe()"
   ]
  },
  {
   "cell_type": "markdown",
   "metadata": {},
   "source": [
    "Save transformed data for use in lesson:"
   ]
  },
  {
   "cell_type": "code",
   "execution_count": 18,
   "metadata": {
    "collapsed": false
   },
   "outputs": [
    {
     "data": {
      "text/plain": [
       "Index(['id', 'age', 'sex', 'race', 'specialty', 'weeks_per_year',\n",
       "       'hours_per_week', 'it_use', 'minority_health_cme', 'survey_weight'],\n",
       "      dtype='object')"
      ]
     },
     "execution_count": 18,
     "metadata": {},
     "output_type": "execute_result"
    }
   ],
   "source": [
    "df.columns[-10:]"
   ]
  },
  {
   "cell_type": "code",
   "execution_count": 19,
   "metadata": {
    "collapsed": true
   },
   "outputs": [],
   "source": [
    "df = df.filter(list(df.columns[-10:]))\n",
    "df.to_csv('doctors.csv', index=False)"
   ]
  }
 ],
 "metadata": {
  "kernelspec": {
   "display_name": "Python 3",
   "language": "python",
   "name": "python3"
  },
  "language_info": {
   "codemirror_mode": {
    "name": "ipython",
    "version": 3
   },
   "file_extension": ".py",
   "mimetype": "text/x-python",
   "name": "python",
   "nbconvert_exporter": "python",
   "pygments_lexer": "ipython3",
   "version": "3.4.5"
  }
 },
 "nbformat": 4,
 "nbformat_minor": 1
}
