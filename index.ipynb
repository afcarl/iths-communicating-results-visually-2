{
 "cells": [
  {
   "cell_type": "code",
   "execution_count": 53,
   "metadata": {
    "collapsed": false
   },
   "outputs": [
    {
     "name": "stdout",
     "output_type": "stream",
     "text": [
      "Overwriting viziometrics_game.py\n"
     ]
    }
   ],
   "source": [
    "%%file viziometrics_game.py\n",
    "\"\"\"Methods for creating interactive elements of viziometrics_game\"\"\"\n",
    "\n",
    "import IPython.display\n",
    "import requests\n",
    "from IPython.display import display\n",
    "from ipywidgets import widgets\n",
    "\n",
    "keywords = 'population health'\n",
    "def set_keywords(kwstr):\n",
    "    \"\"\"Set keywords for random figure selection\"\"\"\n",
    "    global keywords\n",
    "    \n",
    "    assert kwstr != '', 'Keyword string may not be blank'\n",
    "    keywords = kwstr\n",
    "    \n",
    "def select_random_figure(keywords='population health'):\n",
    "    \"\"\"Returns a single random figure\"\"\"\n",
    "    raw_results = requests.get('http://viziometrics.org/api/pmc/image/search/',\n",
    "                     params=dict(keywords=keywords, number=200, qrandom=True))\n",
    "    parsed_results = raw_results.json()\n",
    "    \n",
    "    # search through results to find an image that\n",
    "    # viziometrics.org thinks is a visualization\n",
    "    # and that has a caption of some substance\n",
    "    for candidate_figure in parsed_results:\n",
    "        if candidate_figure['class_name'] == 'visualization':\n",
    "            if len(candidate_figure['caption']) >= 32:\n",
    "                return candidate_figure\n",
    "    raise Exception('no visualizations found for keywords \"{}\"'.format(keywords))\n",
    "\n",
    "def describe_figure(r):\n",
    "    \"\"\" Generate HTML to describe figure to player\"\"\"\n",
    "    descr = ''\n",
    "    descr += '<br/><b>Paper:</b> {}'.format(r['title'])\n",
    "    descr += '<br/><b>Published:</b> {} ({})'.format(r['longname'], r['year_pub'])\n",
    "    descr += '<br/><b>Figure:</b> {}'.format(r['caption'])\n",
    "    return descr\n",
    "\n",
    "def describe_and_show_figure(r):\n",
    "    \"\"\" Generate HTML to describe and show figure to player\"\"\"\n",
    "    s3_key = r['img_loc']\n",
    "    img_url = 'http://s3-us-west-2.amazonaws.com/escience.washington.edu.viziometrics/{}'.format(s3_key)\n",
    "    return describe_figure(r) + '<br/><img src=\"{}\"/>'.format(img_url)\n",
    "\n",
    "def play():\n",
    "    global keywords\n",
    "    \n",
    "    # create button HBox widgets\n",
    "    expect_buttons = []\n",
    "    confirm_buttons = []\n",
    "    for chart_type in ['Scatter', 'Line', 'Bar', 'Horizontal Bar', 'Pie', 'Other']:\n",
    "        expect_buttons.append(widgets.Button(description=chart_type))\n",
    "        confirm_buttons.append(widgets.Button(description=chart_type))\n",
    "\n",
    "    # only include \"Don't Know\" button on expect activity, not on confirm\n",
    "    expect_buttons.append(widgets.Button(description='Don\\'t Know'))\n",
    "\n",
    "    # glocal vars to capture state of game\n",
    "    controls = None\n",
    "    current_figure = None\n",
    "    \n",
    "    # connect expect buttons to \"reveal\" action\n",
    "    def reveal_figure(b):\n",
    "        global controls, current_figure\n",
    "        controls.close()\n",
    "\n",
    "        descr = describe_and_show_figure(current_figure)\n",
    "        descr += '<br/><br/>Actual chart form:'\n",
    "        controls = widgets.VBox([widgets.HTML(descr),\n",
    "                                 widgets.HBox(confirm_buttons)])\n",
    "        display(controls)\n",
    "\n",
    "    for b in expect_buttons:\n",
    "        b.on_click(reveal_figure)\n",
    "\n",
    "    # connect confirm buttons to \"new_question\" action\n",
    "    def new_question(b):\n",
    "        global controls, current_figure, keywords\n",
    "        controls.close()\n",
    "        \n",
    "        current_figure = select_random_figure(keywords)\n",
    "        descr = describe_figure(current_figure)\n",
    "        descr += '<br/><br/>Predicted chart form:'\n",
    "        controls = widgets.VBox([widgets.HTML(descr),\n",
    "                                 widgets.HBox(expect_buttons)])\n",
    "        display(controls)\n",
    "        \n",
    "    for b in confirm_buttons:\n",
    "        b.on_click(new_question)\n",
    "\n",
    "    # start game with a new_question\n",
    "    new_question(None)"
   ]
  },
  {
   "cell_type": "code",
   "execution_count": 54,
   "metadata": {
    "collapsed": false,
    "scrolled": true
   },
   "outputs": [
    {
     "data": {
      "text/plain": [
       "<module 'viziometrics_game' from '/snfs2/HOME/abie/projects/2016/iths-communicating-results-visually/viziometrics_game.py'>"
      ]
     },
     "execution_count": 54,
     "metadata": {},
     "output_type": "execute_result"
    }
   ],
   "source": [
    "import importlib\n",
    "import viziometrics_game\n",
    "importlib.reload(viziometrics_game)"
   ]
  },
  {
   "cell_type": "code",
   "execution_count": 55,
   "metadata": {
    "collapsed": false
   },
   "outputs": [],
   "source": [
    "viziometrics_game.set_keywords('uti')"
   ]
  },
  {
   "cell_type": "code",
   "execution_count": 56,
   "metadata": {
    "collapsed": false
   },
   "outputs": [],
   "source": [
    "viziometrics_game.play()"
   ]
  },
  {
   "cell_type": "code",
   "execution_count": null,
   "metadata": {
    "collapsed": true
   },
   "outputs": [],
   "source": []
  },
  {
   "cell_type": "code",
   "execution_count": null,
   "metadata": {
    "collapsed": true
   },
   "outputs": [],
   "source": []
  },
  {
   "cell_type": "code",
   "execution_count": null,
   "metadata": {
    "collapsed": true
   },
   "outputs": [],
   "source": []
  },
  {
   "cell_type": "code",
   "execution_count": null,
   "metadata": {
    "collapsed": true
   },
   "outputs": [],
   "source": []
  },
  {
   "cell_type": "code",
   "execution_count": null,
   "metadata": {
    "collapsed": true
   },
   "outputs": [],
   "source": []
  },
  {
   "cell_type": "code",
   "execution_count": null,
   "metadata": {
    "collapsed": true
   },
   "outputs": [],
   "source": []
  },
  {
   "cell_type": "code",
   "execution_count": null,
   "metadata": {
    "collapsed": true
   },
   "outputs": [],
   "source": []
  }
 ],
 "metadata": {
  "kernelspec": {
   "display_name": "Python 3",
   "language": "python",
   "name": "python3"
  },
  "language_info": {
   "codemirror_mode": {
    "name": "ipython",
    "version": 3
   },
   "file_extension": ".py",
   "mimetype": "text/x-python",
   "name": "python",
   "nbconvert_exporter": "python",
   "pygments_lexer": "ipython3",
   "version": "3.4.5"
  }
 },
 "nbformat": 4,
 "nbformat_minor": 1
}
